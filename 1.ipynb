{
 "cells": [
  {
   "cell_type": "code",
   "execution_count": 1,
   "metadata": {},
   "outputs": [],
   "source": [
    "import numpy as np \n",
    "import pandas as pd \n",
    "pd.options.display.max_columns = 20 \n",
    "pd.options.display.max_rows = 20 \n",
    "pd.options.display.max_colwidth = 80 \n",
    "np.set_printoptions(precision=4, suppress=True)"
   ]
  },
  {
   "cell_type": "code",
   "execution_count": 2,
   "metadata": {},
   "outputs": [
    {
     "name": "stdout",
     "output_type": "stream",
     "text": [
      "          A   B  C\n",
      "0  0.535336  20  b\n",
      "1  0.789112  49  c\n",
      "2 -2.253893   5  b\n",
      "3  0.168321  48  c\n",
      "4 -2.401841  54  c\n",
      "5  0.607825  77  c\n",
      "6 -0.139596   9  a\n",
      "7  0.058788  87  a\n",
      "8  1.352053  28  c\n",
      "9 -0.816157  56  c\n"
     ]
    }
   ],
   "source": [
    "# 创建一个 DataFrame\n",
    "data = {'A': np.random.randn(10),\n",
    "        'B': np.random.randint(0, 100, 10),\n",
    "        'C': np.random.choice(['a', 'b', 'c'], 10)}\n",
    "\n",
    "df = pd.DataFrame(data)\n",
    "\n",
    "# 查看 DataFrame\n",
    "print(df)"
   ]
  }
 ],
 "metadata": {
  "kernelspec": {
   "display_name": "Python 3",
   "language": "python",
   "name": "python3"
  },
  "language_info": {
   "codemirror_mode": {
    "name": "ipython",
    "version": 3
   },
   "file_extension": ".py",
   "mimetype": "text/x-python",
   "name": "python",
   "nbconvert_exporter": "python",
   "pygments_lexer": "ipython3",
   "version": "3.11.9"
  }
 },
 "nbformat": 4,
 "nbformat_minor": 2
}
